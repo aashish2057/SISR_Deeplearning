{
  "nbformat": 4,
  "nbformat_minor": 0,
  "metadata": {
    "colab": {
      "name": "SISR Deep Learning.ipynb",
      "provenance": []
    },
    "kernelspec": {
      "name": "python3",
      "display_name": "Python 3"
    },
    "language_info": {
      "name": "python"
    }
  },
  "cells": [
    {
      "cell_type": "code",
      "execution_count": 1,
      "metadata": {
        "id": "gQMCOYk2TOeO"
      },
      "outputs": [],
      "source": [
        "import cv2"
      ]
    },
    {
      "cell_type": "code",
      "source": [
        "img = cv2.imread('IMG_1309.JPG')"
      ],
      "metadata": {
        "id": "-Q6EDiq2Tc7d"
      },
      "execution_count": 2,
      "outputs": []
    },
    {
      "cell_type": "code",
      "source": [
        "height = img.shape[0]\n",
        "width = img.shape[1]\n",
        "\n",
        "width_cutoff = width // 2\n",
        "left1 = img[:, :width_cutoff]\n",
        "right1 = img[:, width_cutoff:]"
      ],
      "metadata": {
        "id": "-2j4DqjtTgNq"
      },
      "execution_count": 3,
      "outputs": []
    },
    {
      "cell_type": "code",
      "source": [
        "\n",
        "img = cv2.rotate(left1, cv2.ROTATE_90_CLOCKWISE)\n",
        "\n",
        "height = img.shape[0]\n",
        "width = img.shape[1]\n",
        "\n",
        "width_cutoff = width // 2\n",
        "l2 = img[:, :width_cutoff]\n",
        "l1 = img[:, width_cutoff:]\n",
        "\n",
        "l2 = cv2.rotate(l2, cv2.ROTATE_90_COUNTERCLOCKWISE)\n",
        "\n",
        "cv2.imwrite(\"part_left_2.jpg\", l2)\n",
        "\n",
        "l1 = cv2.rotate(l1, cv2.ROTATE_90_COUNTERCLOCKWISE)\n",
        "\n",
        "cv2.imwrite(\"part_left_1.jpg\", l1)\n",
        "\n",
        "img = cv2.rotate(right1, cv2.ROTATE_90_CLOCKWISE)\n",
        "\n",
        "height = img.shape[0]\n",
        "width = img.shape[1]\n",
        "\n",
        "width_cutoff = width // 2\n",
        "r4 = img[:, :width_cutoff]\n",
        "r3 = img[:, width_cutoff:]\n",
        "\n",
        "r4 = cv2.rotate(r4, cv2.ROTATE_90_COUNTERCLOCKWISE)\n",
        "\n",
        "cv2.imwrite(\"part_right_4.jpg\", r4)\n",
        "\n",
        "r3 = cv2.rotate(r3, cv2.ROTATE_90_COUNTERCLOCKWISE)\n",
        "\n",
        "cv2.imwrite(\"part_right_3.jpg\", r3)"
      ],
      "metadata": {
        "colab": {
          "base_uri": "https://localhost:8080/"
        },
        "id": "AiaewL6nTjRv",
        "outputId": "f1c8f672-a55d-48c9-d4e0-f9b1ffcefe87"
      },
      "execution_count": 4,
      "outputs": [
        {
          "output_type": "execute_result",
          "data": {
            "text/plain": [
              "True"
            ]
          },
          "metadata": {},
          "execution_count": 4
        }
      ]
    },
    {
      "cell_type": "code",
      "source": [
        ""
      ],
      "metadata": {
        "id": "bmpsK9gkTnZP"
      },
      "execution_count": null,
      "outputs": []
    }
  ]
}